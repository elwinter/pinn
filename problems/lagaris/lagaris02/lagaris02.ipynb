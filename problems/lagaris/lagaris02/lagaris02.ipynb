{
 "cells": [
  {
   "cell_type": "code",
   "execution_count": null,
   "metadata": {},
   "outputs": [],
   "source": [
    "import os\n",
    "import sys\n",
    "\n",
    "import matplotlib.pyplot as plt\n",
    "import numpy as np\n",
    "\n",
    "sys.path.append(os.getcwd())\n",
    "import lagaris02 as p"
   ]
  },
  {
   "cell_type": "code",
   "execution_count": null,
   "metadata": {},
   "outputs": [],
   "source": [
    "# Test the analytical solution and derivative.\n",
    "xmin, xmax, nx = 0.0, 2.0, 21\n",
    "x = np.linspace(xmin, xmax, nx)\n",
    "Ψ = p.Ψ_analytical(x)\n",
    "dΨ_dx = p.dΨ_dx_analytical(x)\n",
    "for i in range(nx):\n",
    "    print(f\"{i} {x[i]} {Ψ[i]} {dΨ_dx[i]}\")\n",
    "\n",
    "# Plot the analytical solution and derivative.\n",
    "label = p.dependent_variable_labels[p.iΨ]\n",
    "plt.plot(x, Ψ, label=label)\n",
    "label = f\"d{p.dependent_variable_labels[p.iΨ]}/d{p.dependent_variable_labels[p.ix]}\"\n",
    "plt.plot(x, dΨ_dx, label=label)\n",
    "plt.xlabel(p.independent_variable_labels[p.ix])\n",
    "plt.ylabel(\"Ψ or dΨ/dx\")\n",
    "plt.grid()\n",
    "plt.legend()\n",
    "plt.title(f\"{p.__name__} analytical solution and derivative\")\n",
    "plt.show()"
   ]
  }
 ],
 "metadata": {
  "kernelspec": {
   "display_name": "research-3.10",
   "language": "python",
   "name": "python3"
  },
  "language_info": {
   "codemirror_mode": {
    "name": "ipython",
    "version": 3
   },
   "file_extension": ".py",
   "mimetype": "text/x-python",
   "name": "python",
   "nbconvert_exporter": "python",
   "pygments_lexer": "ipython3",
   "version": "3.10.12"
  }
 },
 "nbformat": 4,
 "nbformat_minor": 2
}
