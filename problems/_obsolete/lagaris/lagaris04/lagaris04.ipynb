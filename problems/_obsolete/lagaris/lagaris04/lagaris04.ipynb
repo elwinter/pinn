{
 "cells": [
  {
   "cell_type": "code",
   "execution_count": null,
   "metadata": {},
   "outputs": [],
   "source": [
    "# Import standard modules.\n",
    "from importlib import import_module\n",
    "import os\n",
    "import sys\n",
    "\n",
    "# Import supplemental modules.\n",
    "import matplotlib.pyplot as plt\n",
    "import numpy as np\n",
    "\n",
    "# Import project modules.\n",
    "import pinn.standard_plots as psp"
   ]
  },
  {
   "cell_type": "code",
   "execution_count": null,
   "metadata": {},
   "outputs": [],
   "source": [
    "# Specify the run ID (aka problem name).\n",
    "runid = \"lagaris04\"\n",
    "\n",
    "# Add the subdirectory for the run results to the module search path.\n",
    "run_path = os.path.join(\".\", runid)\n",
    "sys.path.append(run_path)\n",
    "\n",
    "# Import the problem definition from the run results directory.\n",
    "p = import_module(runid)\n",
    "\n",
    "# Read the run hyperparameters from the run results directory.\n",
    "import hyperparameters as hp"
   ]
  },
  {
   "cell_type": "code",
   "execution_count": null,
   "metadata": {},
   "outputs": [],
   "source": [
    "# Load all data.\n",
    "\n",
    "X_train = np.loadtxt(os.path.join(runid, \"X_train.dat\"))\n",
    "x_train = X_train  # 1-D, so p.ix not needed\n",
    "\n",
    "# Load the data locations and values (includes initial conditions).\n",
    "XY_data = np.loadtxt(os.path.join(runid, \"XY_data.dat\"))\n",
    "\n",
    "# Extract the initial conditions (everything after the coordinate values on each row).\n",
    "ic = XY_data[p.n_dim:]\n",
    "\n",
    "# Load the model-predicted values.\n",
    "ψ = []\n",
    "delψ = []\n",
    "for var_name in p.dependent_variable_names:\n",
    "    ψ.append(np.loadtxt(os.path.join(runid, \"%s_train.dat\" % var_name)))\n",
    "    delψ.append(np.loadtxt(os.path.join(runid, \"del_%s_train.dat\" % var_name)))\n",
    "\n",
    "# Load the loss function histories.\n",
    "losses_model = np.loadtxt(os.path.join(runid, \"losses_model.dat\"))\n",
    "losses_model_res = np.loadtxt(os.path.join(runid, \"losses_model_res.dat\"))\n",
    "losses_model_data = np.loadtxt(os.path.join(runid, \"losses_model_data.dat\"))\n",
    "losses = np.loadtxt(os.path.join(runid, \"losses.dat\"))\n",
    "losses_res = np.loadtxt(os.path.join(runid, \"losses_res.dat\"))\n",
    "losses_data = np.loadtxt(os.path.join(runid, \"losses_data.dat\"))"
   ]
  },
  {
   "cell_type": "code",
   "execution_count": null,
   "metadata": {},
   "outputs": [],
   "source": [
    "# Compute the limits of the training domain.\n",
    "x_min = x_train[0]\n",
    "x_max = x_train[-1]\n",
    "\n",
    "# Extract the unique training point values (a grid is assumed).\n",
    "x_train_vals = np.unique(x_train)\n",
    "n_x_train_vals = len(x_train_vals)"
   ]
  },
  {
   "cell_type": "code",
   "execution_count": null,
   "metadata": {},
   "outputs": [],
   "source": [
    "# Plotting options\n",
    "\n",
    "# Specify the size (width, height) (in inches) for individual subplots.\n",
    "SUBPLOT_WIDTH = 5.0\n",
    "SUBPLOT_HEIGHT = 5.0\n",
    "\n",
    "# Compute the coordinate plot tick locations and labels.\n",
    "XY_N_X_TICKS = 5\n",
    "XY_x_tick_pos = np.linspace(x_min, x_max, XY_N_X_TICKS)\n",
    "XY_x_tick_labels = [\"%.1f\" % x for x in XY_x_tick_pos]"
   ]
  },
  {
   "cell_type": "code",
   "execution_count": null,
   "metadata": {},
   "outputs": [],
   "source": [
    "# Plot the loss history for each model.\n",
    "fig = psp.plot_model_loss_functions(\n",
    "    losses_model_res, losses_model_data, losses_model,\n",
    "    p.dependent_variable_labels\n",
    ")"
   ]
  },
  {
   "cell_type": "code",
   "execution_count": null,
   "metadata": {},
   "outputs": [],
   "source": [
    "# Plot the total loss function history.\n",
    "total_loss_figsize = (SUBPLOT_WIDTH*2, SUBPLOT_HEIGHT)\n",
    "plt.figure(figsize=total_loss_figsize)\n",
    "psp.plot_loss_functions(\n",
    "    [losses_res, losses_data, losses],\n",
    "    [\"$L_{res}$\", \"$L_{data}$\", \"$L$\"],\n",
    "    title=\"Total loss function history for %s\" % runid\n",
    ")"
   ]
  },
  {
   "cell_type": "code",
   "execution_count": null,
   "metadata": {},
   "outputs": [],
   "source": [
    "# Extract the coordinates of the training points at the initial time.\n",
    "n_start = n_x_train_vals\n",
    "x0 = XY_data[0]\n",
    "y0 = XY_data[-1]"
   ]
  },
  {
   "cell_type": "code",
   "execution_count": null,
   "metadata": {},
   "outputs": [],
   "source": [
    "# Compute the analytical solutions at the training points.\n",
    "y1_analytical = p.Ψ1_analytical(x_train)\n",
    "y2_analytical = p.Ψ2_analytical(x_train)\n",
    "\n",
    "y1_train = ψ[0]\n",
    "y2_train = ψ[1]\n",
    "\n",
    "# Compute the error in the trained solutions.\n",
    "y1_err = y1_train - y1_analytical\n",
    "y2_err = y2_train - y2_analytical"
   ]
  },
  {
   "cell_type": "code",
   "execution_count": null,
   "metadata": {},
   "outputs": [],
   "source": [
    "# Plot the actual, predicted, and absolute error in solution 1.\n",
    "ax1 = plt.gca()\n",
    "ax1.plot(x_train, y1_train, label=f\"{p.dependent_variable_labels[0]} (trained)\")\n",
    "ax1.plot(x_train, y1_analytical, label=f\"{p.dependent_variable_labels[0]} (analytical)\")\n",
    "ax1.plot(x_train, y1_err, label=\"Error\")\n",
    "ax1.legend()\n",
    "ax1.set_xlabel(p.independent_variable_labels[0])\n",
    "ax1.set_ylabel(p.dependent_variable_labels[0])\n",
    "ax1.set_title(f\"Trained and analytical solution for {runid} equation 1\")\n",
    "plt.show()"
   ]
  },
  {
   "cell_type": "code",
   "execution_count": null,
   "metadata": {},
   "outputs": [],
   "source": [
    "# Plot the actual, predicted, and absolute error in solution 2.\n",
    "ax1 = plt.gca()\n",
    "ax1.plot(x_train, y2_train, label=f\"{p.dependent_variable_labels[1]} (trained)\")\n",
    "ax1.plot(x_train, y2_analytical, label=f\"{p.dependent_variable_labels[1]} (analytical)\")\n",
    "ax1.plot(x_train, y2_err, label=\"Error\")\n",
    "ax1.legend()\n",
    "ax1.set_xlabel(p.independent_variable_labels[0])\n",
    "ax1.set_ylabel(p.dependent_variable_labels[1])\n",
    "ax1.set_title(f\"Trained and analytical solution for {runid} equation 2\")\n",
    "plt.show()"
   ]
  },
  {
   "cell_type": "code",
   "execution_count": null,
   "metadata": {},
   "outputs": [],
   "source": []
  }
 ],
 "metadata": {
  "kernelspec": {
   "display_name": "research-3.10",
   "language": "python",
   "name": "python3"
  },
  "language_info": {
   "codemirror_mode": {
    "name": "ipython",
    "version": 3
   },
   "file_extension": ".py",
   "mimetype": "text/x-python",
   "name": "python",
   "nbconvert_exporter": "python",
   "pygments_lexer": "ipython3",
   "version": "3.10.10"
  },
  "orig_nbformat": 4,
  "vscode": {
   "interpreter": {
    "hash": "00353d7f30cefe116fc1bf1d52fbabca9f44d2df3e2eb8cf0d245f78f2264c19"
   }
  }
 },
 "nbformat": 4,
 "nbformat_minor": 2
}
