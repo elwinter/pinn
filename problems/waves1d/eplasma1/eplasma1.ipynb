{
 "cells": [
  {
   "cell_type": "code",
   "execution_count": null,
   "metadata": {},
   "outputs": [],
   "source": [
    "import os\n",
    "import sys\n",
    "\n",
    "import matplotlib.pyplot as plt\n",
    "import numpy as np\n",
    "\n",
    "sys.path.append(os.getcwd())\n",
    "import eplasma1 as p"
   ]
  },
  {
   "cell_type": "code",
   "execution_count": null,
   "metadata": {},
   "outputs": [],
   "source": [
    "# Load the data file.\n",
    "data = np.loadtxt(\"data/eplasma1_101x101_data.dat\")\n",
    "tmin, tmax, nt = 0.0, 1.0, 101\n",
    "xmin, xmax, nx = 0.0, 1.0, 101"
   ]
  },
  {
   "cell_type": "code",
   "execution_count": null,
   "metadata": {},
   "outputs": [],
   "source": [
    "# Extract and plot the initial conditions conditions at (t=0, x).\n",
    "t = data[:nx, 0]\n",
    "x = data[:nx, 1]\n",
    "n1 = data[:nx, 2]\n",
    "u1x = data[:nx, 3]\n",
    "E1x = data[:nx, 4]\n",
    "plt.plot(x, n1, label=\"$n_1$\")\n",
    "plt.plot(x, u1x, label=\"$u_{1x}$\")\n",
    "plt.plot(x, E1x, label=\"$E_{1x}$\")\n",
    "plt.legend()\n",
    "plt.xlabel(\"x\")\n",
    "plt.ylabel(\"$n_1$, $u_{1x}$, $E_{1x}$\")\n",
    "plt.title(\"Initial conditions at t=0\")\n",
    "plt.grid()\n",
    "plt.show()"
   ]
  },
  {
   "cell_type": "code",
   "execution_count": null,
   "metadata": {},
   "outputs": [],
   "source": [
    "# Extract and plot the boundary conditions conditions at (t, x=0).\n",
    "t = data[nx:, 0]\n",
    "x = data[nx:, 1]\n",
    "n1 = data[nx:, 2]\n",
    "u1x = data[nx:, 3]\n",
    "E1x = data[nx:, 4]\n",
    "plt.plot(t, n1, label=\"$n_1$\")\n",
    "plt.plot(t, u1x, label=\"$u_{1x}$\")\n",
    "plt.plot(t, E1x, label=\"$E_{1x}$\")\n",
    "plt.legend()\n",
    "plt.xlabel(\"t\")\n",
    "plt.ylabel(\"$n_1$, $u_{1x}$, $E_{1x}$\")\n",
    "plt.title(\"Boundary conditions at x=0\")\n",
    "plt.grid()\n",
    "plt.show()"
   ]
  },
  {
   "cell_type": "code",
   "execution_count": null,
   "metadata": {},
   "outputs": [],
   "source": [
    "# Extract and plot the initial conditions conditions at (t=1, x).\n",
    "t = data[-nx:, 0]\n",
    "x = data[-nx:, 1]\n",
    "n1 = data[-nx:, 2]\n",
    "u1x = data[-nx:, 3]\n",
    "E1x = data[-nx:, 4]\n",
    "plt.plot(x, n1, label=\"$n_1$\")\n",
    "plt.plot(x, u1x, label=\"$u_{1x}$\")\n",
    "plt.plot(x, E1x, label=\"$E_{1x}$\")\n",
    "plt.legend()\n",
    "plt.xlabel(\"x\")\n",
    "plt.ylabel(\"$n_1$, $u_{1x}$, $E_{1x}$\")\n",
    "plt.title(\"Final conditions at t=1\")\n",
    "plt.grid()\n",
    "plt.show()"
   ]
  },
  {
   "cell_type": "code",
   "execution_count": null,
   "metadata": {},
   "outputs": [],
   "source": []
  }
 ],
 "metadata": {
  "kernelspec": {
   "display_name": "research-3.10",
   "language": "python",
   "name": "python3"
  },
  "language_info": {
   "codemirror_mode": {
    "name": "ipython",
    "version": 3
   },
   "file_extension": ".py",
   "mimetype": "text/x-python",
   "name": "python",
   "nbconvert_exporter": "python",
   "pygments_lexer": "ipython3",
   "version": "3.10.12"
  },
  "orig_nbformat": 4
 },
 "nbformat": 4,
 "nbformat_minor": 2
}
