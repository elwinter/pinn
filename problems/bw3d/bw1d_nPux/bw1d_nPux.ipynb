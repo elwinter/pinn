{
 "cells": [
  {
   "cell_type": "code",
   "execution_count": null,
   "metadata": {},
   "outputs": [],
   "source": [
    "import matplotlib.pyplot as plt\n",
    "import numpy as np"
   ]
  },
  {
   "cell_type": "code",
   "execution_count": null,
   "metadata": {},
   "outputs": [],
   "source": [
    "# Read the initial conditions.\n",
    "XY0 = np.loadtxt(\"data/bw1d_nPux_101_101_gaussian_IC_isopycnic.dat\")\n",
    "nt = 101\n",
    "nx = 101"
   ]
  },
  {
   "cell_type": "code",
   "execution_count": null,
   "metadata": {},
   "outputs": [],
   "source": [
    "# Extract initial values.\n",
    "t = XY0[:nx, 0]\n",
    "x = XY0[:nx, 1]\n",
    "n = XY0[:nx, 2]\n",
    "P = XY0[:nx, 3]\n",
    "ux = XY0[:nx, 4]\n"
   ]
  },
  {
   "cell_type": "code",
   "execution_count": null,
   "metadata": {},
   "outputs": [],
   "source": [
    "# Plot the initial number density.\n",
    "plt.plot(x, n)\n",
    "plt.xlabel(\"$x$\")\n",
    "plt.ylabel(\"$n$\")\n",
    "plt.title(\"Number density at t = 0\")"
   ]
  },
  {
   "cell_type": "code",
   "execution_count": null,
   "metadata": {},
   "outputs": [],
   "source": [
    "# Plot the initial pressure.\n",
    "plt.plot(x, P)\n",
    "plt.xlabel(\"$x$\")\n",
    "plt.ylabel(\"$P$\")\n",
    "plt.title(\"Pressure at t = 0\")"
   ]
  },
  {
   "cell_type": "code",
   "execution_count": null,
   "metadata": {},
   "outputs": [],
   "source": [
    "# Plot the velocity at t = 0.\n",
    "plt.plot(x, ux)\n",
    "plt.xlabel(\"$x$\")\n",
    "plt.ylabel(\"$u_x$\")\n",
    "plt.title(\"$u_x$ at t = 0\")"
   ]
  }
 ],
 "metadata": {
  "kernelspec": {
   "display_name": "research-3.10",
   "language": "python",
   "name": "python3"
  },
  "language_info": {
   "codemirror_mode": {
    "name": "ipython",
    "version": 3
   },
   "file_extension": ".py",
   "mimetype": "text/x-python",
   "name": "python",
   "nbconvert_exporter": "python",
   "pygments_lexer": "ipython3",
   "version": "3.10.12"
  }
 },
 "nbformat": 4,
 "nbformat_minor": 2
}
