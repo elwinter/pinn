{
 "cells": [
  {
   "cell_type": "code",
   "execution_count": null,
   "metadata": {},
   "outputs": [],
   "source": [
    "# Import standard modules.\n",
    "from importlib import import_module\n",
    "import os\n",
    "import sys\n",
    "\n",
    "# Import supplemental modules.\n",
    "import matplotlib.pyplot as plt\n",
    "import numpy as np\n",
    "\n",
    "# Import project modules.\n",
    "import pinn.standard_plots as psp"
   ]
  },
  {
   "cell_type": "code",
   "execution_count": null,
   "metadata": {},
   "outputs": [],
   "source": [
    "# Specify the run ID (aka problem name).\n",
    "runid = \"square_wave_n\"\n",
    "\n",
    "# Add the subdirectory for the run results to the module search path.\n",
    "run_path = os.path.join(\".\", runid)\n",
    "sys.path.append(run_path)\n",
    "\n",
    "# Import the problem definition from the run results directory.\n",
    "p = import_module(runid)\n",
    "\n",
    "# Read the run hyperparameters from the run results directory.\n",
    "import hyperparameters as hp"
   ]
  },
  {
   "cell_type": "code",
   "execution_count": null,
   "metadata": {},
   "outputs": [],
   "source": [
    "# Load all data.\n",
    "\n",
    "# Load the training point coordinates.\n",
    "X_train = np.loadtxt(os.path.join(runid, \"X_train.dat\"))\n",
    "t_train = X_train[:, p.it]\n",
    "x_train = X_train[:, p.ix]\n",
    "\n",
    "# Load the data locations and values (includes initial conditions).\n",
    "XY_data = np.loadtxt(os.path.join(runid, \"XY_data.dat\"))\n",
    "\n",
    "# Extract the initial conditions (everything after the coordinate values on each row).\n",
    "ic = XY_data[:, p.n_dim:]\n",
    "\n",
    "# Load the model-predicted values.\n",
    "ψ = []\n",
    "delψ = []\n",
    "for var_name in p.dependent_variable_names:\n",
    "    ψ.append(np.loadtxt(os.path.join(runid, \"%s_train.dat\" % var_name)))\n",
    "    delψ.append(np.loadtxt(os.path.join(runid, \"del_%s_train.dat\" % var_name)))\n",
    "\n",
    "# Load the loss function histories.\n",
    "losses_model = np.loadtxt(os.path.join(runid, \"losses_model.dat\"))\n",
    "losses_model_res = np.loadtxt(os.path.join(runid, \"losses_model_res.dat\"))\n",
    "losses_model_data = np.loadtxt(os.path.join(runid, \"losses_model_data.dat\"))\n",
    "losses = np.loadtxt(os.path.join(runid, \"losses.dat\"))\n",
    "losses_res = np.loadtxt(os.path.join(runid, \"losses_res.dat\"))\n",
    "losses_data = np.loadtxt(os.path.join(runid, \"losses_data.dat\"))\n",
    "\n",
    "# <HACK>\n",
    "# Reshape 1-D arrays to 2-D since only 1 dependent variable.\n",
    "n_losses = losses.shape[0]\n",
    "losses_model.shape = (n_losses, 1)\n",
    "losses_model_res.shape = (n_losses, 1)\n",
    "losses_model_data.shape = (n_losses, 1)\n",
    "losses.shape = (n_losses, 1)\n",
    "losses_res.shape = (n_losses, 1)\n",
    "losses_data.shape = (n_losses, 1)\n",
    "# </HACK>"
   ]
  },
  {
   "cell_type": "code",
   "execution_count": null,
   "metadata": {},
   "outputs": [],
   "source": [
    "# Compute the limits of the training domain.\n",
    "t_min = t_train[0]\n",
    "t_max = t_train[-1]\n",
    "x_min = x_train[0]\n",
    "x_max = x_train[-1]\n",
    "\n",
    "# Extract the unique training point values (a grid is assumed).\n",
    "t_train_vals = np.unique(t_train)\n",
    "x_train_vals = np.unique(x_train)\n",
    "n_t_train_vals = len(t_train_vals)\n",
    "n_x_train_vals = len(x_train_vals)"
   ]
  },
  {
   "cell_type": "code",
   "execution_count": null,
   "metadata": {},
   "outputs": [],
   "source": [
    "# Plotting options\n",
    "\n",
    "# Specify the size (width, height) (in inches) for individual subplots.\n",
    "SUBPLOT_WIDTH = 5.0\n",
    "SUBPLOT_HEIGHT = 5.0"
   ]
  },
  {
   "cell_type": "code",
   "execution_count": null,
   "metadata": {},
   "outputs": [],
   "source": [
    "# Plot the loss history for each model.\n",
    "fig = psp.plot_model_loss_functions(\n",
    "    losses_model_res, losses_model_data, losses_model,\n",
    "    p.dependent_variable_labels\n",
    ")"
   ]
  },
  {
   "cell_type": "code",
   "execution_count": null,
   "metadata": {},
   "outputs": [],
   "source": [
    "# Plot the total loss function history.\n",
    "total_loss_figsize = (SUBPLOT_WIDTH*2, SUBPLOT_HEIGHT)\n",
    "plt.figure(figsize=total_loss_figsize)\n",
    "psp.plot_loss_functions(\n",
    "    [losses_res, losses_data, losses],\n",
    "    [\"$L_{res}$\", \"$L_{data}$\", \"$L$\"],\n",
    "    title=\"Total loss function history for %s\" % runid\n",
    ")"
   ]
  },
  {
   "cell_type": "code",
   "execution_count": null,
   "metadata": {},
   "outputs": [],
   "source": [
    "# Extract the coordinates of the training points at the initial time.\n",
    "n_start = n_x_train_vals\n",
    "t0 = XY_data[:, p.it]\n",
    "x0 = XY_data[:, p.ix]"
   ]
  },
  {
   "cell_type": "code",
   "execution_count": null,
   "metadata": {},
   "outputs": [],
   "source": [
    "# Plot the actual, predicted, and absolute error in initial number density.\n",
    "n0_act = p.n_analytical(t0, x0)\n",
    "n0_pred = ψ[p.i_n][:n_start]\n",
    "n0_err = n0_pred - n0_act\n",
    "\n",
    "plt.plot(x0, n0_pred, label=\"Predicted\")\n",
    "plt.plot(x0, n0_act, label=\"Analytical\")\n",
    "plt.plot(x0, n0_err, label=\"Error\")\n",
    "plt.xlabel(p.independent_variable_labels[1])\n",
    "plt.ylabel(p.dependent_variable_labels[0])\n",
    "plt.legend()"
   ]
  },
  {
   "cell_type": "code",
   "execution_count": null,
   "metadata": {},
   "outputs": [],
   "source": [
    "# Extract the coordinates of the training points at the final time.\n",
    "n_end = n_x_train_vals\n",
    "t1 = t_train[-n_end:]\n",
    "x1 = x_train[-n_end:]"
   ]
  },
  {
   "cell_type": "code",
   "execution_count": null,
   "metadata": {},
   "outputs": [],
   "source": [
    "# Plot the actual, predicted, and absolute error in final number density.\n",
    "n1_act = p.n_analytical(t1, x1)\n",
    "n1_pred = ψ[p.i_n][-n_end:]\n",
    "n1_err = n1_pred - n1_act\n",
    "\n",
    "plt.plot(x0, n1_pred, label=\"Predicted\")\n",
    "plt.plot(x0, n1_act, label=\"Analytical\")\n",
    "plt.plot(x0, n1_err, label=\"Error\")\n",
    "plt.xlabel(p.independent_variable_labels[1])\n",
    "plt.ylabel(p.dependent_variable_labels[0])\n",
    "plt.legend()"
   ]
  }
 ],
 "metadata": {
  "kernelspec": {
   "display_name": "research-3.10",
   "language": "python",
   "name": "python3"
  },
  "language_info": {
   "codemirror_mode": {
    "name": "ipython",
    "version": 3
   },
   "file_extension": ".py",
   "mimetype": "text/x-python",
   "name": "python",
   "nbconvert_exporter": "python",
   "pygments_lexer": "ipython3",
   "version": "3.10.10"
  },
  "orig_nbformat": 4,
  "vscode": {
   "interpreter": {
    "hash": "00353d7f30cefe116fc1bf1d52fbabca9f44d2df3e2eb8cf0d245f78f2264c19"
   }
  }
 },
 "nbformat": 4,
 "nbformat_minor": 2
}
