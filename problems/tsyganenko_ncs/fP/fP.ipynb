{
 "cells": [
  {
   "cell_type": "code",
   "execution_count": null,
   "metadata": {},
   "outputs": [],
   "source": [
    "# Import standard modules.\n",
    "import sys\n",
    "\n",
    "# Import supplemental modules.\n",
    "import matplotlib as mpl\n",
    "import matplotlib.pyplot as plt\n",
    "import numpy as np\n",
    "\n",
    "# Import project modules.\n",
    "sys.path.insert(0, '/Users/winteel1/research/src/pinn/tsyganenko_neutral_current_sheet/pinn')\n",
    "import problems.tsyganenko_ncs.fP.fP as p"
   ]
  },
  {
   "cell_type": "code",
   "execution_count": null,
   "metadata": {},
   "outputs": [],
   "source": [
    "# Plot the analytical value.\n",
    "\n",
    "# Plot constants\n",
    "MEAN_VALUE_COLOR = 'red'\n",
    "\n",
    "# Create data and compute analytical solution.\n",
    "Pmin, Pmax, nP = 0, 10, 101\n",
    "P = np.linspace(Pmin, Pmax, nP)\n",
    "fP_analytical = p.fP_analytical(P)\n",
    "\n",
    "# Compute plot limits.\n",
    "fPmin, fPmax = -2.0, 2.0\n",
    "\n",
    "# Compute strings.\n",
    "title = f\"{p.dependent_variable_labels[p.ifP]} (analytical)\"\n",
    "xlabel = p.independent_variable_labels[p.iP]\n",
    "ylabel = p.dependent_variable_labels[p.ifP]\n",
    "\n",
    "# Create the figure.\n",
    "fig = plt.figure()\n",
    "ax = fig.add_subplot()\n",
    "ax.grid()\n",
    "ax.set_xlabel(\"$P$ (nPa)\")\n",
    "ax.set_ylabel(\"$f_P$\")\n",
    "ax.set_title(title)\n",
    "ax.plot(P, fP_analytical)\n",
    "# Plot vertical line at scale value.\n",
    "ax.vlines(p.Pmean, fPmin, fPmax, color=MEAN_VALUE_COLOR)\n",
    "plt.show()"
   ]
  }
 ],
 "metadata": {
  "kernelspec": {
   "display_name": "research-3.10",
   "language": "python",
   "name": "python3"
  },
  "language_info": {
   "codemirror_mode": {
    "name": "ipython",
    "version": 3
   },
   "file_extension": ".py",
   "mimetype": "text/x-python",
   "name": "python",
   "nbconvert_exporter": "python",
   "pygments_lexer": "ipython3",
   "version": "3.10.12"
  }
 },
 "nbformat": 4,
 "nbformat_minor": 2
}
