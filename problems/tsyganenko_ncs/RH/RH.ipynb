{
 "cells": [
  {
   "cell_type": "code",
   "execution_count": null,
   "metadata": {},
   "outputs": [],
   "source": [
    "# Import standard modules.\n",
    "import sys\n",
    "\n",
    "# Import supplemental modules.\n",
    "import matplotlib as mpl\n",
    "import matplotlib.pyplot as plt\n",
    "import numpy as np\n",
    "\n",
    "# Import project modules.\n",
    "sys.path.insert(0, '/Users/winteel1/research/src/pinn/tsyganenko_neutral_current_sheet/pinn')\n",
    "import problems.tsyganenko_ncs.RH.RH as p"
   ]
  },
  {
   "cell_type": "code",
   "execution_count": null,
   "metadata": {},
   "outputs": [],
   "source": [
    "# Plot the analytical value.\n",
    "\n",
    "# Create data and compute analytical solution.\n",
    "fPmin, fPmax, nfP = -2.0, 2.0, 101\n",
    "fP = np.linspace(fPmin, fPmax, nfP)\n",
    "fBzmin, fBzmax, nfBz = -2.0, 2.0, 101\n",
    "fBz = np.linspace(fBzmin, fBzmax, nfBz)\n",
    "\n",
    "# Make a meshgrid for evaluation.\n",
    "FP, FBZ = np.meshgrid(fP, fBz)\n",
    "# Both are shape (nfBz, nfP).\n",
    "# The nfBz rows of FP are the nfP values of fP.\n",
    "# The nfP columns of FBZ are the nfBz values of fBz.\n",
    "\n",
    "# Create phi array.\n",
    "phi = 0.0\n",
    "PHI = np.full(FP.shape, phi)\n",
    "\n",
    "# Compute plot limits.\n",
    "RHmin, RHmax = 0.0, 20.0\n",
    "\n",
    "# Compute the value of RH at each point.\n",
    "RH = p.RH_analytical(FP, FBZ, PHI)\n",
    "# Shape is (nfBz, nfP)\n",
    "\n",
    "# Plot constants\n",
    "MEAN_VALUE_COLOR = 'red'\n",
    "# Compute tick marks and labels imshow() plot in (fP, fBz) space.\n",
    "# Tick positions are in pixel coordinates.\n",
    "N_X_TICKS = 5\n",
    "x_tick_pos = np.linspace(0, nfP - 1, N_X_TICKS)\n",
    "x_tick_labels = [\"%.1f\" % (fPmin + x/(nfP - 1)*(fPmax - fPmin)) for x in x_tick_pos]\n",
    "N_Y_TICKS = 5\n",
    "y_tick_pos = np.linspace(0, nfBz - 1, N_Y_TICKS)\n",
    "y_tick_labels = [\"%.1f\" % (fBzmin + y/(nfBz - 1)*(fBzmax - fBzmin)) for y in y_tick_pos]\n",
    "\n",
    "# Compute strings.\n",
    "title = f\"{p.dependent_variable_labels[p.iRH]} (analytical)\"\n",
    "xlabel = p.independent_variable_labels[p.ifP]\n",
    "ylabel = p.independent_variable_labels[p.ifBz]\n",
    "\n",
    "# Create the figure.\n",
    "fig = plt.figure()\n",
    "ax = fig.add_subplot()\n",
    "\n",
    "# Plot the data as an image.\n",
    "im = ax.imshow(RH, origin='lower')\n",
    "fig.colorbar(im)\n",
    "\n",
    "# Decorate the plot.\n",
    "ax.grid()\n",
    "ax.set_xlabel(xlabel)\n",
    "ax.set_ylabel(ylabel)\n",
    "ax.set_title(title)\n",
    "plt.show()"
   ]
  }
 ],
 "metadata": {
  "kernelspec": {
   "display_name": "research-3.10",
   "language": "python",
   "name": "python3"
  },
  "language_info": {
   "codemirror_mode": {
    "name": "ipython",
    "version": 3
   },
   "file_extension": ".py",
   "mimetype": "text/x-python",
   "name": "python",
   "nbconvert_exporter": "python",
   "pygments_lexer": "ipython3",
   "version": "3.10.12"
  }
 },
 "nbformat": 4,
 "nbformat_minor": 2
}
