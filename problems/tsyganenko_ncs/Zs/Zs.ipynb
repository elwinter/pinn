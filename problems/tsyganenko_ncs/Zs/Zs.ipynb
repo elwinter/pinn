{
 "cells": [
  {
   "cell_type": "markdown",
   "metadata": {},
   "source": [
    "This is a quick & dirty spreadsheet to plot the training point locations cylindrical and Cartesian grids, just to make sure they are distributed properly."
   ]
  },
  {
   "cell_type": "code",
   "execution_count": null,
   "metadata": {},
   "outputs": [],
   "source": [
    "import matplotlib.pyplot as plt\n",
    "import numpy as np"
   ]
  },
  {
   "cell_type": "code",
   "execution_count": null,
   "metadata": {},
   "outputs": [],
   "source": [
    "# Plot training data on a cylindrical grid in cylindrical coordinates.\n",
    "data = np.loadtxt('Zs_011x011x001x001x001x001.dat')\n",
    "rho = data[:, 0]\n",
    "phi = data[:, 1]\n",
    "fig = plt.figure()\n",
    "ax = fig.add_subplot(projection='polar')\n",
    "c = ax.scatter(phi, rho)"
   ]
  },
  {
   "cell_type": "code",
   "execution_count": null,
   "metadata": {},
   "outputs": [],
   "source": [
    "# Plot training data on a Cartesian grid in cylindrical coordinates.\n",
    "data = np.loadtxt('Zs_cartesian_011x011x001x001x001x001.dat')\n",
    "rho = data[:, 0]\n",
    "phi = data[:, 1]\n",
    "x = rho*np.cos(phi)\n",
    "y = rho*np.sin(phi)\n",
    "fig = plt.figure()\n",
    "ax = fig.add_subplot()\n",
    "c = ax.scatter(x, y)"
   ]
  },
  {
   "cell_type": "code",
   "execution_count": null,
   "metadata": {},
   "outputs": [],
   "source": []
  }
 ],
 "metadata": {
  "kernelspec": {
   "display_name": "research-3.10",
   "language": "python",
   "name": "python3"
  },
  "language_info": {
   "codemirror_mode": {
    "name": "ipython",
    "version": 3
   },
   "file_extension": ".py",
   "mimetype": "text/x-python",
   "name": "python",
   "nbconvert_exporter": "python",
   "pygments_lexer": "ipython3",
   "version": "3.10.12"
  }
 },
 "nbformat": 4,
 "nbformat_minor": 2
}
